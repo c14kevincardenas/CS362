{
 "cells": [
  {
   "cell_type": "markdown",
   "id": "beb60423",
   "metadata": {},
   "source": [
    "# Lesson 9 - Independent, Identically Distibuted Data\n",
    "***\n",
    "## Lesson Objectives\n",
    "- Explain the difference between data that are independent and identically distributed (I.I.D.) and those that are not\n",
    "- Determine if data from a single process are independent and identically distributed\n",
    "    - **Determine if data are homogeneous**\n",
    "    - **Determine if data within a time series is stationary**\n",
    "    - **Determine if data within a time series are independent**\n",
    "- Determine if data from one process is independent from data in another process\n",
    "- Use histograms, time series, runs tests, scatter plots, and auto-correlation tests to analyze data"
   ]
  },
  {
   "cell_type": "code",
   "execution_count": 133,
   "id": "267848f8",
   "metadata": {},
   "outputs": [],
   "source": [
    "import pandas as pd\n",
    "import numpy as np\n",
    "import matplotlib.pyplot as plt\n",
    "import seaborn as sns\n",
    "import math\n",
    "import scipy.stats as stats"
   ]
  },
  {
   "cell_type": "markdown",
   "id": "80240d50",
   "metadata": {},
   "source": [
    "## Read the Data"
   ]
  },
  {
   "cell_type": "markdown",
   "id": "f1e136fb",
   "metadata": {},
   "source": [
    "Read in the data using pandas `read_csv` function and insect the first five lines using `.head()`."
   ]
  },
  {
   "cell_type": "code",
   "execution_count": 1,
   "id": "fb7c596a",
   "metadata": {},
   "outputs": [],
   "source": [
    "# read data\n",
    "\n",
    "# inspect first 5 lines\n"
   ]
  },
  {
   "cell_type": "markdown",
   "id": "c37ed97c",
   "metadata": {},
   "source": [
    "Save the values in the `Bus Service Time` column to another variable."
   ]
  },
  {
   "cell_type": "code",
   "execution_count": 2,
   "id": "5482dc0f",
   "metadata": {},
   "outputs": [],
   "source": []
  },
  {
   "cell_type": "markdown",
   "id": "36841a05",
   "metadata": {},
   "source": [
    "## Homogeneity\n",
    "Here we want to answer the question: \"*Is the data all from the same distribution?*\""
   ]
  },
  {
   "cell_type": "markdown",
   "id": "899f6a0b",
   "metadata": {},
   "source": [
    "Create a plot to inspect the homogeneity of the data."
   ]
  },
  {
   "cell_type": "code",
   "execution_count": null,
   "id": "fac7fed5",
   "metadata": {},
   "outputs": [],
   "source": []
  },
  {
   "cell_type": "markdown",
   "id": "c27eb4bd",
   "metadata": {},
   "source": [
    "## Stationarity\n",
    "Here we want to answer the question: \"*Does the data trend over time?*\""
   ]
  },
  {
   "cell_type": "markdown",
   "id": "7609c4af",
   "metadata": {},
   "source": [
    "Create a plot to inspect the stationarity of the data."
   ]
  },
  {
   "cell_type": "code",
   "execution_count": null,
   "id": "6fc2aa11",
   "metadata": {},
   "outputs": [],
   "source": []
  },
  {
   "cell_type": "markdown",
   "id": "7f75f721",
   "metadata": {},
   "source": [
    "## Independence\n",
    "Here we want to answer the question: \"*Are the data correlated?*\""
   ]
  },
  {
   "cell_type": "markdown",
   "id": "226031df",
   "metadata": {},
   "source": [
    "### 1. Turning Points Test"
   ]
  },
  {
   "cell_type": "markdown",
   "id": "54b300b7",
   "metadata": {},
   "source": [
    "Create a function `turning_points_test` that accepts an array of data (like the values in the `Bus Service Time` column) and returns the number of turning points. **HINT: Google is your friend!**"
   ]
  },
  {
   "cell_type": "code",
   "execution_count": null,
   "id": "e1976812",
   "metadata": {},
   "outputs": [],
   "source": []
  },
  {
   "cell_type": "markdown",
   "id": "56dda9d3",
   "metadata": {},
   "source": [
    "Call your `turning_points_test` function and inspect the result. Does the number of turning points make sense?"
   ]
  },
  {
   "cell_type": "code",
   "execution_count": 6,
   "id": "d0af8f94",
   "metadata": {},
   "outputs": [],
   "source": []
  },
  {
   "attachments": {},
   "cell_type": "markdown",
   "id": "24d73317",
   "metadata": {},
   "source": [
    "If the data in the time series were independent, it can be shown that the number of runs R is normally distributed with mean 𝜇<sub>𝑅</sub> = $\\frac{(2𝑛 − 4)}{3}$ and 𝜎<sub>𝑅<sup>2</sup></sub> = $\\frac{(16𝑛 − 29)}{90}$, where 𝑛 is the sample size. Find 𝜇<sub>𝑅</sub> and 𝜎<sub>𝑅<sup>2</sup></sub>."
   ]
  },
  {
   "cell_type": "code",
   "execution_count": null,
   "id": "8968263f",
   "metadata": {},
   "outputs": [],
   "source": []
  },
  {
   "cell_type": "code",
   "execution_count": null,
   "id": "f377e634",
   "metadata": {},
   "outputs": [],
   "source": []
  },
  {
   "attachments": {},
   "cell_type": "markdown",
   "id": "3576701a",
   "metadata": {},
   "source": [
    "Calculate the test statistic 𝑍 = $\\frac{(𝑅 − 𝜇_{𝑅})}{𝜎_{𝑅}}$, which follows a standard normal distribution for large sample sizes."
   ]
  },
  {
   "cell_type": "code",
   "execution_count": null,
   "id": "a3251422",
   "metadata": {},
   "outputs": [],
   "source": []
  },
  {
   "cell_type": "markdown",
   "id": "1ee8ed72",
   "metadata": {},
   "source": [
    "Testing for independence uses a two-tailed hypothesis test because we dont want too many turning points or too few. Find the left and right tail values for the standard normal distribution using `stats.norm.ppf(0.025)` and `stats.norm.ppf(0.975)`, respectively."
   ]
  },
  {
   "cell_type": "code",
   "execution_count": null,
   "id": "311c4f6b",
   "metadata": {},
   "outputs": [],
   "source": []
  },
  {
   "cell_type": "code",
   "execution_count": null,
   "id": "5f2a471e",
   "metadata": {},
   "outputs": [],
   "source": []
  },
  {
   "cell_type": "markdown",
   "id": "44baa814",
   "metadata": {},
   "source": [
    "Create a simple `if` statement to see if you reject or fail to reject the null hypothesis that the data is independent."
   ]
  },
  {
   "cell_type": "code",
   "execution_count": null,
   "id": "5402a971",
   "metadata": {},
   "outputs": [],
   "source": []
  },
  {
   "cell_type": "markdown",
   "id": "4d44998c",
   "metadata": {},
   "source": [
    "### 2. Runs Test about the Mean"
   ]
  },
  {
   "cell_type": "markdown",
   "id": "3feb6257",
   "metadata": {},
   "source": [
    "Create a runs test about the mean using [this website](https://www.statology.org/runs-test-python/). Import the necessary libraries, run the test and inspect the results."
   ]
  },
  {
   "cell_type": "code",
   "execution_count": null,
   "id": "3a019ae7",
   "metadata": {},
   "outputs": [],
   "source": []
  },
  {
   "cell_type": "code",
   "execution_count": null,
   "id": "97274d79",
   "metadata": {},
   "outputs": [],
   "source": []
  },
  {
   "cell_type": "markdown",
   "id": "78c12106",
   "metadata": {},
   "source": [
    "Create a simple `if` statement to see if you reject or fail to reject the null hypothesis that the data is independent."
   ]
  },
  {
   "cell_type": "code",
   "execution_count": null,
   "id": "0679d7c8",
   "metadata": {},
   "outputs": [],
   "source": []
  }
 ],
 "metadata": {
  "kernelspec": {
   "display_name": "Python 3",
   "language": "python",
   "name": "python3"
  },
  "language_info": {
   "codemirror_mode": {
    "name": "ipython",
    "version": 3
   },
   "file_extension": ".py",
   "mimetype": "text/x-python",
   "name": "python",
   "nbconvert_exporter": "python",
   "pygments_lexer": "ipython3",
   "version": "3.8.8"
  }
 },
 "nbformat": 4,
 "nbformat_minor": 5
}
