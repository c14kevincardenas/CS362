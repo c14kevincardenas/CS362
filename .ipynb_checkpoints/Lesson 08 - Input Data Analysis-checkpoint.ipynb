{
 "cells": [
  {
   "cell_type": "markdown",
   "id": "18016356",
   "metadata": {},
   "source": [
    "# Lesson 8 - Input Data Analysis - Intro\n",
    "***\n",
    "## Lesson Objectives\n",
    "- Develop a process for collecting data for a system to be modeled\n",
    "    - Identify potential data sources\n",
    "    - Collect data\n",
    "    - **Analyze data**\n",
    "***\n",
    "In this Jupyter Notebook we will bring in our data that was collected by Vail Resorts for the `Bus Service Time`, the `Time on Mountain` and the `Arrival Time`. You will need to do the following:\n",
    "* Read the data from the csv\n",
    "* Plot a histogram\n",
    "* Prepare the data\n",
    "* Fit the distributions\n",
    "* Identify the best distribution"
   ]
  },
  {
   "cell_type": "markdown",
   "id": "6b8c92eb",
   "metadata": {},
   "source": [
    "## Read the Data"
   ]
  },
  {
   "cell_type": "code",
   "execution_count": 5,
   "id": "9b6caa90",
   "metadata": {},
   "outputs": [],
   "source": [
    "import numpy as np\n",
    "import pandas as pd\n",
    "import seaborn as sns\n",
    "import matplotlib.pyplot as plt\n",
    "import math\n",
    "from fitter import Fitter, get_common_distributions, get_distributions"
   ]
  },
  {
   "cell_type": "markdown",
   "id": "d939949f",
   "metadata": {},
   "source": [
    "Read in the data using pandas `read_csv` function and insect the first five lines using `.head()`."
   ]
  },
  {
   "cell_type": "code",
   "execution_count": 1,
   "id": "4ec17895",
   "metadata": {
    "scrolled": true
   },
   "outputs": [],
   "source": [
    "# read data\n",
    "\n",
    "# inspect first 5 lines\n"
   ]
  },
  {
   "cell_type": "markdown",
   "id": "531ca1d7",
   "metadata": {},
   "source": [
    "## Plot Histograms\n",
    "In this section we will plot histograms for our 3 variables `Bus Service Time`, `Time on Mountain` and `Interarrival Time` using [`sns.histplot`](https://seaborn.pydata.org/generated/seaborn.histplot.html). Something to consider when creating histograms is how many bins to use. Reference [this article](https://en.wikipedia.org/wiki/Histogram#Number_of_bins_and_width) for ways to determine the number of bins. I like using the Square-root Choice rule or Sturge's Rule."
   ]
  },
  {
   "cell_type": "markdown",
   "id": "6260c9ba",
   "metadata": {},
   "source": [
    "#### 1. Bus Service Times"
   ]
  },
  {
   "cell_type": "code",
   "execution_count": 1,
   "id": "b784b189",
   "metadata": {},
   "outputs": [],
   "source": [
    "# how many bins should we have?\n",
    "\n",
    "# plot histogram\n"
   ]
  },
  {
   "cell_type": "markdown",
   "id": "4e6a946b",
   "metadata": {},
   "source": [
    "#### 2. Time on the Mountain"
   ]
  },
  {
   "cell_type": "code",
   "execution_count": 2,
   "id": "c7f43932",
   "metadata": {},
   "outputs": [],
   "source": [
    "# how many bins should we have?\n",
    "\n",
    "# plot histogram\n"
   ]
  },
  {
   "cell_type": "markdown",
   "id": "979afa53",
   "metadata": {},
   "source": [
    "#### 3. Interarrival Times"
   ]
  },
  {
   "cell_type": "code",
   "execution_count": 2,
   "id": "a9389777",
   "metadata": {},
   "outputs": [],
   "source": [
    "# how many bins should we have?\n",
    "\n",
    "# plot histogram\n"
   ]
  },
  {
   "cell_type": "markdown",
   "id": "b21622b5",
   "metadata": {},
   "source": [
    "## Data Preparation\n",
    "Save the values in the `Bus Service Time`,  `Time on Mountain` and `Interarrival Time` columns to three separate variables."
   ]
  },
  {
   "cell_type": "code",
   "execution_count": null,
   "id": "af1cb728",
   "metadata": {},
   "outputs": [],
   "source": []
  },
  {
   "cell_type": "markdown",
   "id": "e9589546",
   "metadata": {},
   "source": [
    "## Fitting Distributions\n",
    "Create a Fitter object using the bus times and try to fit the distributions ['gamma', 'lognorm', 'beta', 'norm'], fit the distributions to the data and show the summary of the results. **HINT: You can copy/paste from the [blog](https://medium.com/the-researchers-guide/finding-the-best-distribution-that-fits-your-data-using-pythons-fitter-library-319a5a0972e9) you read before class.**"
   ]
  },
  {
   "cell_type": "markdown",
   "id": "c91da664",
   "metadata": {},
   "source": [
    "#### 1. Bus Service Times"
   ]
  },
  {
   "cell_type": "code",
   "execution_count": null,
   "id": "9483d8f8",
   "metadata": {},
   "outputs": [],
   "source": []
  },
  {
   "cell_type": "markdown",
   "id": "e95d39e8",
   "metadata": {},
   "source": [
    "#### 2. Time on the Mountain"
   ]
  },
  {
   "cell_type": "code",
   "execution_count": null,
   "id": "94730449",
   "metadata": {},
   "outputs": [],
   "source": []
  },
  {
   "cell_type": "markdown",
   "id": "ed207d1b",
   "metadata": {},
   "source": [
    "#### 3. Arrival Times"
   ]
  },
  {
   "cell_type": "code",
   "execution_count": null,
   "id": "34ee21cd",
   "metadata": {},
   "outputs": [],
   "source": []
  },
  {
   "cell_type": "markdown",
   "id": "1e391a5e",
   "metadata": {},
   "source": [
    "## Identify the Best Distributions\n",
    "Find the best distribution using the `.get_best()` method with your `Fitter` object."
   ]
  },
  {
   "cell_type": "markdown",
   "id": "158a3a9b",
   "metadata": {},
   "source": [
    "#### 1. Bus Service Times"
   ]
  },
  {
   "cell_type": "code",
   "execution_count": null,
   "id": "99f9f02b",
   "metadata": {},
   "outputs": [],
   "source": []
  },
  {
   "cell_type": "markdown",
   "id": "89ad398f",
   "metadata": {},
   "source": [
    "#### 2. Time on the Mountain"
   ]
  },
  {
   "cell_type": "code",
   "execution_count": null,
   "id": "81ef3160",
   "metadata": {},
   "outputs": [],
   "source": []
  },
  {
   "cell_type": "markdown",
   "id": "a05a7ab1",
   "metadata": {},
   "source": [
    "#### 3. Arrival Times\n"
   ]
  },
  {
   "cell_type": "code",
   "execution_count": null,
   "id": "b6a92e65",
   "metadata": {},
   "outputs": [],
   "source": []
  }
 ],
 "metadata": {
  "kernelspec": {
   "display_name": "Python 3",
   "language": "python",
   "name": "python3"
  },
  "language_info": {
   "codemirror_mode": {
    "name": "ipython",
    "version": 3
   },
   "file_extension": ".py",
   "mimetype": "text/x-python",
   "name": "python",
   "nbconvert_exporter": "python",
   "pygments_lexer": "ipython3",
   "version": "3.8.8"
  }
 },
 "nbformat": 4,
 "nbformat_minor": 5
}
