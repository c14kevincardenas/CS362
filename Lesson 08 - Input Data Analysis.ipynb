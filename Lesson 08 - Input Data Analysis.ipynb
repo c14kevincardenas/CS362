{
 "cells": [
  {
   "cell_type": "markdown",
   "id": "18016356",
   "metadata": {},
   "source": [
    "# Lesson 08 - Input Data Analysis - Part I\n",
    "In this Jupyter Notebook we will bring in our data that was collected by Vail Resorts for the `Bus Service Time` and the `Time on Mountain`. You will need to do the following:\n",
    "* Read the data from the csv\n",
    "* Plot a histogram\n",
    "* Prepare the data\n",
    "* Fit the distributions\n",
    "* Identify the best distribution"
   ]
  },
  {
   "cell_type": "markdown",
   "id": "6b8c92eb",
   "metadata": {},
   "source": [
    "## Read the Data"
   ]
  },
  {
   "cell_type": "code",
   "execution_count": 5,
   "id": "9b6caa90",
   "metadata": {},
   "outputs": [],
   "source": [
    "import numpy as np\n",
    "import pandas as pd\n",
    "import seaborn as sns\n",
    "import matplotlib.pyplot as plt\n",
    "import math\n",
    "from fitter import Fitter, get_common_distributions, get_distributions"
   ]
  },
  {
   "cell_type": "code",
   "execution_count": 6,
   "id": "c60aa21d",
   "metadata": {},
   "outputs": [],
   "source": [
    "# read in data and inspect first 5 lines\n"
   ]
  },
  {
   "cell_type": "code",
   "execution_count": 15,
   "id": "4ec17895",
   "metadata": {
    "scrolled": true
   },
   "outputs": [],
   "source": [
    "df.info()"
   ]
  },
  {
   "cell_type": "markdown",
   "id": "531ca1d7",
   "metadata": {},
   "source": [
    "## Plot Histograms"
   ]
  },
  {
   "cell_type": "markdown",
   "id": "6260c9ba",
   "metadata": {},
   "source": [
    "Bus Service Times"
   ]
  },
  {
   "cell_type": "code",
   "execution_count": 1,
   "id": "b784b189",
   "metadata": {},
   "outputs": [],
   "source": [
    "# how many bins should we have?\n",
    "# sqrt choice\n",
    "\n",
    "# sturge's rule\n",
    "\n",
    "\n",
    "# plot histogram\n"
   ]
  },
  {
   "cell_type": "markdown",
   "id": "4e6a946b",
   "metadata": {},
   "source": [
    "Time on the Mountain"
   ]
  },
  {
   "cell_type": "code",
   "execution_count": 2,
   "id": "c7f43932",
   "metadata": {},
   "outputs": [],
   "source": [
    "# how many bins should we have?\n",
    "# sqrt choice\n",
    "\n",
    "# sturge's rule\n",
    "\n",
    "\n",
    "# plot histogram"
   ]
  },
  {
   "cell_type": "markdown",
   "id": "979afa53",
   "metadata": {},
   "source": [
    "Arrival Times"
   ]
  },
  {
   "cell_type": "code",
   "execution_count": 3,
   "id": "a9389777",
   "metadata": {},
   "outputs": [],
   "source": [
    "# how many bins should we have?\n",
    "# sqrt choice\n",
    "\n",
    "# sturge's rule\n",
    "\n",
    "\n",
    "# plot histogram"
   ]
  },
  {
   "cell_type": "markdown",
   "id": "b21622b5",
   "metadata": {},
   "source": [
    "## Data Preparation"
   ]
  },
  {
   "cell_type": "code",
   "execution_count": null,
   "id": "af1cb728",
   "metadata": {},
   "outputs": [],
   "source": [
    "# save columns' values to 3 separate variables \n"
   ]
  },
  {
   "cell_type": "markdown",
   "id": "e9589546",
   "metadata": {},
   "source": [
    "## Fitting Distributions"
   ]
  },
  {
   "cell_type": "markdown",
   "id": "c91da664",
   "metadata": {},
   "source": [
    "Bus Service Times"
   ]
  },
  {
   "cell_type": "code",
   "execution_count": 8,
   "id": "e03d2442",
   "metadata": {},
   "outputs": [],
   "source": [
    "# create a Fitter object using the bus times and try to fit the distributions ['gamma', 'lognorm', 'beta', 'norm']\n",
    "\n",
    "# fit the distributions to the data\n",
    "\n",
    "# show the sumarry of the results\n"
   ]
  },
  {
   "cell_type": "markdown",
   "id": "e95d39e8",
   "metadata": {},
   "source": [
    "Time on the Mountain"
   ]
  },
  {
   "cell_type": "code",
   "execution_count": 9,
   "id": "62233b31",
   "metadata": {},
   "outputs": [],
   "source": [
    "# create a Fitter object using the bus times and try to fit the distributions ['gamma', 'lognorm', 'beta', 'norm']\n",
    "\n",
    "# fit the distributions to the data\n",
    "\n",
    "# show the sumarry of the results\n"
   ]
  },
  {
   "cell_type": "markdown",
   "id": "ed207d1b",
   "metadata": {},
   "source": [
    "Arrival Times"
   ]
  },
  {
   "cell_type": "code",
   "execution_count": null,
   "id": "20b85b9d",
   "metadata": {},
   "outputs": [],
   "source": [
    "# create a Fitter object using the bus times and try to fit the distributions ['gamma', 'lognorm', 'beta', 'norm']\n",
    "\n",
    "# fit the distributions to the data\n",
    "\n",
    "# show the sumarry of the results\n"
   ]
  },
  {
   "cell_type": "markdown",
   "id": "1e391a5e",
   "metadata": {},
   "source": [
    "## Identify the Best Distributions"
   ]
  },
  {
   "cell_type": "markdown",
   "id": "158a3a9b",
   "metadata": {},
   "source": [
    "Bus Service Times"
   ]
  },
  {
   "cell_type": "code",
   "execution_count": 10,
   "id": "8e452a6f",
   "metadata": {},
   "outputs": [],
   "source": [
    "# find the best method using .get_best()\n"
   ]
  },
  {
   "cell_type": "code",
   "execution_count": 11,
   "id": "42367dad",
   "metadata": {},
   "outputs": [],
   "source": [
    "# find the parameters if a normal distribution were used to fit the data\n"
   ]
  },
  {
   "cell_type": "markdown",
   "id": "89ad398f",
   "metadata": {},
   "source": [
    "Time on the Mountain"
   ]
  },
  {
   "cell_type": "code",
   "execution_count": 12,
   "id": "df1d2fff",
   "metadata": {},
   "outputs": [],
   "source": [
    "# find the best method using .get_best()\n"
   ]
  },
  {
   "cell_type": "code",
   "execution_count": 13,
   "id": "bad0fda9",
   "metadata": {},
   "outputs": [],
   "source": [
    "# find the parameters if a normal distribution were used to fit the data\n"
   ]
  },
  {
   "cell_type": "markdown",
   "id": "a05a7ab1",
   "metadata": {},
   "source": [
    "Arrival Times\n"
   ]
  },
  {
   "cell_type": "code",
   "execution_count": 12,
   "id": "b5c37fa9",
   "metadata": {},
   "outputs": [],
   "source": [
    "# find the best method using .get_best()\n"
   ]
  },
  {
   "cell_type": "code",
   "execution_count": 13,
   "id": "7766f349",
   "metadata": {},
   "outputs": [],
   "source": [
    "# find the parameters if a normal distribution were used to fit the data\n"
   ]
  }
 ],
 "metadata": {
  "kernelspec": {
   "display_name": "Python 3",
   "language": "python",
   "name": "python3"
  },
  "language_info": {
   "codemirror_mode": {
    "name": "ipython",
    "version": 3
   },
   "file_extension": ".py",
   "mimetype": "text/x-python",
   "name": "python",
   "nbconvert_exporter": "python",
   "pygments_lexer": "ipython3",
   "version": "3.8.8"
  }
 },
 "nbformat": 4,
 "nbformat_minor": 5
}
