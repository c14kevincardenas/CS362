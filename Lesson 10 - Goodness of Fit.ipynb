{
 "cells": [
  {
   "cell_type": "markdown",
   "id": "d04de2a0",
   "metadata": {},
   "source": [
    "# Lesson 10 - Goodness of Fit\n",
    "***\n",
    "## Lesson Objectives\n",
    "- Explain why certain probability distributions are reasonable models for real-world processes\n",
    "- Fit probability distributions to data using estimated parameters\n",
    "- Test the fit of data to probability distributions\n",
    "- Create an empirical distribution from data"
   ]
  },
  {
   "cell_type": "code",
   "execution_count": 25,
   "id": "c1c36e09",
   "metadata": {},
   "outputs": [],
   "source": [
    "import pandas as pd\n",
    "import numpy as np\n",
    "import matplotlib.pyplot as plt\n",
    "import seaborn as sns\n",
    "import math\n",
    "import scipy.stats as stats\n",
    "from fitter import Fitter"
   ]
  },
  {
   "cell_type": "markdown",
   "id": "d34feea2",
   "metadata": {},
   "source": [
    "## Lesson 10 Prep"
   ]
  },
  {
   "cell_type": "markdown",
   "id": "45b12fbd",
   "metadata": {},
   "source": [
    "**Question 1:** You collected data about a process and want to see if a particular probability distribution will be a good model for that data.  You grouped the data you collected into histogram-like bins and you have 20, 90, 250, and 150 in each of those four bins.  You want to test if those are a good fit for a probability distribution in which the bins should contain 5%, 15%, 45%, and 35% of the observations.  Perform a chi-square goodness-of-fit test.  Give the p-value below, rounded to 3 decimal places."
   ]
  },
  {
   "cell_type": "code",
   "execution_count": null,
   "id": "f95954b7",
   "metadata": {},
   "outputs": [],
   "source": []
  },
  {
   "cell_type": "markdown",
   "id": "71b416c5",
   "metadata": {},
   "source": [
    "**Question 2:** You collected data about a process and want to see if a particular probability distribution will be a good model for that data.  Perform a KS test to see if the data is a good fit for a gamma distribution with shape parameter 5 and rate parameter 1.  Give the p-value below, rounded to 3 decimal places."
   ]
  },
  {
   "cell_type": "code",
   "execution_count": null,
   "id": "7df610b6",
   "metadata": {},
   "outputs": [],
   "source": []
  },
  {
   "cell_type": "markdown",
   "id": "c4820921",
   "metadata": {},
   "source": [
    "## Read the Data"
   ]
  },
  {
   "cell_type": "markdown",
   "id": "7db7dd52",
   "metadata": {},
   "source": [
    "Read in the data using pandas `read_csv` function and insect the first five lines using `.head()`."
   ]
  },
  {
   "cell_type": "code",
   "execution_count": 41,
   "id": "3ed82725",
   "metadata": {},
   "outputs": [],
   "source": [
    "# read data\n",
    "\n",
    "# inspect first 5 lines\n"
   ]
  },
  {
   "cell_type": "markdown",
   "id": "11c6d86a",
   "metadata": {},
   "source": [
    "Save the values in the `Bus Service Time` column to another variable."
   ]
  },
  {
   "cell_type": "code",
   "execution_count": 29,
   "id": "fdd09e5a",
   "metadata": {},
   "outputs": [],
   "source": []
  },
  {
   "cell_type": "markdown",
   "id": "9cf54627",
   "metadata": {},
   "source": [
    "## Fitting Distributions\n",
    "Create a `Fitter` object using the bus times and try to fit the distributions ['gamma', 'lognorm', 'beta', 'norm'], fit the distributions to the data and show the summary of the results."
   ]
  },
  {
   "cell_type": "code",
   "execution_count": null,
   "id": "e24e41bf",
   "metadata": {
    "scrolled": false
   },
   "outputs": [],
   "source": []
  },
  {
   "cell_type": "markdown",
   "id": "dee54eb3",
   "metadata": {},
   "source": [
    "## Identify the Best Distribution\n",
    "Find the best distribution using the `.get_best()` method with your `Fitter` object."
   ]
  },
  {
   "cell_type": "code",
   "execution_count": null,
   "id": "0bfeaf63",
   "metadata": {},
   "outputs": [],
   "source": []
  },
  {
   "cell_type": "markdown",
   "id": "1a9883d0",
   "metadata": {},
   "source": [
    "## KS Goodness of Fit Test\n",
    "Calculate the KS Goodness of Fit test statistic using the [Scipy KS Test](https://docs.scipy.org/doc/scipy/reference/generated/scipy.stats.kstest.html#scipy.stats.kstest). The random variables should be your data, the CDF should be the distribution name that you are choosing to represent the data with, and the arguments should be the arguments corresponding to the distribution you chose. \n",
    "\n",
    "**HINT:** A quick way to get the parameters of your chosen distribution is to use the `Fitter` objects `fitted_param[____]` attribute (e.g. `fitted_param['norm']`)."
   ]
  },
  {
   "cell_type": "code",
   "execution_count": null,
   "id": "e52bb8f8",
   "metadata": {
    "scrolled": true
   },
   "outputs": [],
   "source": []
  },
  {
   "cell_type": "markdown",
   "id": "da3fb048",
   "metadata": {},
   "source": [
    "## AD Goodness of Fit Test\n",
    "Calculate the Anderson Darling Goodness of Fit test statistic using the [Scipy AD Test](https://docs.scipy.org/doc/scipy/reference/generated/scipy.stats.anderson.html). The `x` should be your data, the dist should be the distribution name that you are choosing to represent the data with."
   ]
  },
  {
   "cell_type": "code",
   "execution_count": null,
   "id": "3ebc3844",
   "metadata": {},
   "outputs": [],
   "source": []
  },
  {
   "cell_type": "code",
   "execution_count": null,
   "id": "9030a435",
   "metadata": {},
   "outputs": [],
   "source": []
  }
 ],
 "metadata": {
  "kernelspec": {
   "display_name": "Python 3",
   "language": "python",
   "name": "python3"
  },
  "language_info": {
   "codemirror_mode": {
    "name": "ipython",
    "version": 3
   },
   "file_extension": ".py",
   "mimetype": "text/x-python",
   "name": "python",
   "nbconvert_exporter": "python",
   "pygments_lexer": "ipython3",
   "version": "3.8.8"
  }
 },
 "nbformat": 4,
 "nbformat_minor": 5
}
